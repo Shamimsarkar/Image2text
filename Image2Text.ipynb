{
 "cells": [
  {
   "cell_type": "code",
   "execution_count": 1,
   "metadata": {},
   "outputs": [
    {
     "data": {
      "text/plain": [
       "'C:\\\\Users\\\\88017'"
      ]
     },
     "execution_count": 1,
     "metadata": {},
     "output_type": "execute_result"
    }
   ],
   "source": [
    "pwd\n"
   ]
  },
  {
   "cell_type": "code",
   "execution_count": 2,
   "metadata": {},
   "outputs": [],
   "source": [
    "import cv2\n",
    "import pytesseract\n",
    "tesseract_cmd = r'C:\\Users\\88017\\AppData\\Local\\Tesseract-OCR'"
   ]
  },
  {
   "cell_type": "code",
   "execution_count": 3,
   "metadata": {},
   "outputs": [
    {
     "name": "stdout",
     "output_type": "stream",
     "text": [
      "ra Alefa\n",
      "\n",
      "n +SE Mean +SE\n",
      "108) (N=168)\n",
      "+0).09 3.63+0.11\n",
      "+0.01 3.71+40.11\n",
      "+0.13 7.36+0.15\n",
      "3+1.86 1.65+0.07\n",
      "+1.80 1.43+0.63\n",
      "+0.19 0.22+0.14\n",
      "\n",
      " \n",
      "\n",
      "ard Error, ***= shows significant dif\n"
     ]
    }
   ],
   "source": [
    "img = cv2.imread('ss.jpg')\n",
    "text = pytesseract.image_to_string(img)\n",
    "print(text)"
   ]
  },
  {
   "cell_type": "code",
   "execution_count": null,
   "metadata": {},
   "outputs": [],
   "source": []
  }
 ],
 "metadata": {
  "kernelspec": {
   "display_name": "Python 3",
   "language": "python",
   "name": "python3"
  },
  "language_info": {
   "codemirror_mode": {
    "name": "ipython",
    "version": 3
   },
   "file_extension": ".py",
   "mimetype": "text/x-python",
   "name": "python",
   "nbconvert_exporter": "python",
   "pygments_lexer": "ipython3",
   "version": "3.7.4"
  }
 },
 "nbformat": 4,
 "nbformat_minor": 2
}
